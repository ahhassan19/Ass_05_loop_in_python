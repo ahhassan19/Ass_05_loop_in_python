{
 "cells": [
  {
   "cell_type": "markdown",
   "id": "b2d90387-4068-4622-b984-504b5e9c21f4",
   "metadata": {},
   "source": [
    "##Looping Structures\n"
   ]
  },
  {
   "cell_type": "code",
   "execution_count": 3,
   "id": "ceb7758f-7990-4ae7-b1aa-bfcd734816be",
   "metadata": {},
   "outputs": [
    {
     "name": "stdout",
     "output_type": "stream",
     "text": [
      "1\n",
      "2\n",
      "3\n",
      "4\n",
      "5\n",
      "6\n",
      "7\n",
      "8\n",
      "9\n",
      "10\n"
     ]
    }
   ],
   "source": [
    "# Write a Python program to print the numbers from 1 to 10 using a for loop.\n",
    "for i in range(1,11):\n",
    "    print(i)"
   ]
  },
  {
   "cell_type": "code",
   "execution_count": 8,
   "id": "fb78dad4-6f39-4577-a49f-fe7ed3be92d9",
   "metadata": {},
   "outputs": [
    {
     "name": "stdout",
     "output_type": "stream",
     "text": [
      "20\n",
      "19\n",
      "18\n",
      "17\n",
      "16\n",
      "15\n",
      "14\n",
      "13\n",
      "12\n",
      "11\n",
      "10\n",
      "9\n",
      "8\n",
      "7\n",
      "6\n",
      "5\n",
      "4\n",
      "3\n",
      "2\n",
      "1\n"
     ]
    }
   ],
   "source": [
    "# Write a Python program to print the numbers from 20 to 1 using a while loop\n",
    "for i in range(20,0,-1):\n",
    "    print(i)"
   ]
  },
  {
   "cell_type": "code",
   "execution_count": 12,
   "id": "2e323cbd-2f2e-4956-9747-49818ceed126",
   "metadata": {},
   "outputs": [
    {
     "name": "stdout",
     "output_type": "stream",
     "text": [
      "2\n",
      "4\n",
      "6\n",
      "8\n",
      "10\n"
     ]
    }
   ],
   "source": [
    "#Write a program to print even numbers from 1 to 10.\n",
    "for i in range(1,11):\n",
    "    if i%2==0:\n",
    "        print(i)\n",
    "        \n",
    "    "
   ]
  },
  {
   "cell_type": "code",
   "execution_count": 14,
   "id": "14e3a631-32ee-4949-97e2-ab2303147292",
   "metadata": {},
   "outputs": [
    {
     "name": "stdin",
     "output_type": "stream",
     "text": [
      "ENTER THE NUM 10\n"
     ]
    },
    {
     "name": "stdout",
     "output_type": "stream",
     "text": [
      "1\n",
      "2\n",
      "3\n",
      "4\n",
      "5\n",
      "6\n",
      "7\n",
      "8\n",
      "9\n",
      "10\n"
     ]
    }
   ],
   "source": [
    "#. Write a program that prompts the user to enter a number n and prints all the numbers from 1 to n.\n",
    "n=int(input(\"ENTER THE NUM\"))\n",
    "for i in range(1,n+1):\n",
    "    print(i)"
   ]
  },
  {
   "cell_type": "code",
   "execution_count": 16,
   "id": "eac4b77b-ae96-4b97-8672-f3910f1b2516",
   "metadata": {},
   "outputs": [
    {
     "name": "stdin",
     "output_type": "stream",
     "text": [
      "ENTER THE NUM 10\n"
     ]
    },
    {
     "name": "stdout",
     "output_type": "stream",
     "text": [
      "1\n",
      "3\n",
      "5\n",
      "7\n",
      "9\n"
     ]
    }
   ],
   "source": [
    "#. Write a program that prompts the user to enter a number n, and then prints all the odd numbers between 1 and n.\n",
    "n=int(input(\"ENTER THE NUM\"))\n",
    "for i in range(1,n+1):\n",
    "    if i%2==1:\n",
    "        print(i)"
   ]
  },
  {
   "cell_type": "code",
   "execution_count": 18,
   "id": "1783b361-1b24-48fd-9036-97867427e39e",
   "metadata": {},
   "outputs": [
    {
     "name": "stdout",
     "output_type": "stream",
     "text": [
      "Happy Birthday!\n",
      "Happy Birthday!\n",
      "Happy Birthday!\n",
      "Happy Birthday!\n",
      "Happy Birthday!\n"
     ]
    }
   ],
   "source": [
    "#write a program that prints 'Happy Birthday!' five times on screen. \n",
    "for i in range(1,6):\n",
    "    print(\"Happy Birthday!\")"
   ]
  },
  {
   "cell_type": "code",
   "execution_count": 24,
   "id": "7361013d-6d5d-429d-935b-e51cb298d111",
   "metadata": {},
   "outputs": [
    {
     "name": "stdin",
     "output_type": "stream",
     "text": [
      "ENTER THE NUM 4\n"
     ]
    },
    {
     "name": "stdout",
     "output_type": "stream",
     "text": [
      "1\n",
      "4\n",
      "9\n",
      "16\n"
     ]
    }
   ],
   "source": [
    "#. Write a program that takes a number n as input from the user and generates the first n terms of the series formed by squaring the natural numbers.\n",
    "n=int(input(\"ENTER THE NUM\"))\n",
    "for i in range(1,n+1):\n",
    "    print(i*i)"
   ]
  },
  {
   "cell_type": "code",
   "execution_count": 35,
   "id": "d5a884c4-c439-4276-b256-758aa0e3803b",
   "metadata": {},
   "outputs": [
    {
     "name": "stdin",
     "output_type": "stream",
     "text": [
      "ENTER THE NUM 5\n"
     ]
    },
    {
     "name": "stdout",
     "output_type": "stream",
     "text": [
      "5 X 1 = 5\n",
      "5 X 2 = 10\n",
      "5 X 3 = 15\n",
      "5 X 4 = 20\n",
      "5 X 5 = 25\n",
      "5 X 6 = 30\n",
      "5 X 7 = 35\n",
      "5 X 8 = 40\n",
      "5 X 9 = 45\n",
      "5 X 10 = 50\n"
     ]
    }
   ],
   "source": [
    "# Write a program that prompts the user to input a number and prints its multiplication table.\n",
    "n=int(input(\"ENTER THE NUM\"))\n",
    "for i in range(1,11):\n",
    "    print(f\"{n} X {i} = {n*i}\")\n"
   ]
  },
  {
   "cell_type": "code",
   "execution_count": 40,
   "id": "a7a006bf-bbf6-4188-aa91-86af7cff39e7",
   "metadata": {},
   "outputs": [
    {
     "name": "stdout",
     "output_type": "stream",
     "text": [
      "3 7 11 15 19 23 27 31 "
     ]
    }
   ],
   "source": [
    "# Write a Python program to print the first 8 terms of an arithmetic progression starting with 3 and having a common difference of 4.\n",
    "first_term = 3\n",
    "common_difference = 4\n",
    "num_terms = 8\n",
    "for i in range(num_terms):\n",
    "    term = first_term + i * common_difference\n",
    "    print(term, end=' ')\n",
    "\n",
    "    \n"
   ]
  },
  {
   "cell_type": "code",
   "execution_count": 43,
   "id": "6e4e6e65-af85-4326-a82e-407ff087e6aa",
   "metadata": {},
   "outputs": [
    {
     "name": "stdout",
     "output_type": "stream",
     "text": [
      "2 6 18 54 162 486 "
     ]
    }
   ],
   "source": [
    "# Write a Python program to print the first 6 terms of a geometric sequence starting with 2 and having a common ratio of 3. \n",
    "first_term = 2\n",
    "common_ratio = 3\n",
    "num_terms = 6\n",
    "for i in range(num_terms):\n",
    "    term = first_term * (common_ratio **i)\n",
    "    print(term, end=' ')\n",
    "\n"
   ]
  },
  {
   "cell_type": "code",
   "execution_count": 3,
   "id": "c045d300-79be-4f54-95b8-6c973ea8e4c0",
   "metadata": {},
   "outputs": [
    {
     "name": "stdin",
     "output_type": "stream",
     "text": [
      " 4\n"
     ]
    },
    {
     "name": "stdout",
     "output_type": "stream",
     "text": [
      "1\n",
      "1\n",
      "2\n",
      "3\n",
      "3\n",
      "6\n",
      "4\n",
      "10\n"
     ]
    }
   ],
   "source": [
    "import math\n",
    "n=int(input())\n",
    "total=0\n",
    "\n",
    "for i in range(1,n+1):\n",
    "    total+=i\n",
    "    print(i)\n",
    "    print(total)\n",
    "  \n",
    "    \n",
    "    \n",
    "    \n",
    "    \n",
    "\n"
   ]
  },
  {
   "cell_type": "code",
   "execution_count": null,
   "id": "9e039cdc-c15d-4a00-807f-f3ee014874a3",
   "metadata": {},
   "outputs": [],
   "source": [
    "list=[]\n",
    "n=int(input(\"Enter the size  \"))\n",
    "new_ele=int((input()))\n",
    "for i in range(0,n):\n",
    "    \n",
    "    new_ele=list.append(new_ele)\n",
    "    print(new_ele)"
   ]
  },
  {
   "cell_type": "code",
   "execution_count": 8,
   "id": "50de8448-fbb6-4b14-9f02-f2f9bf1a0d93",
   "metadata": {},
   "outputs": [
    {
     "name": "stdin",
     "output_type": "stream",
     "text": [
      "Enter the num  5\n"
     ]
    },
    {
     "name": "stdout",
     "output_type": "stream",
     "text": [
      "1\n",
      "2\n",
      "3\n",
      "4\n",
      "5\n",
      "Total sum of give num is 15\n"
     ]
    }
   ],
   "source": [
    "#Write a program that asks the user for a positive integer value. The program should calculate the sum of all the integers from 1 up to the number entered. For example, if the user enters 20, the loop will find the sum of 1, 2, 3, 4, ... 20. \n",
    "n=int(input(\"Enter the num \"))\n",
    "total=0\n",
    "for i in range(1,n+1):\n",
    "    total+=i\n",
    "    print(i)\n",
    "print(f\"Total sum of give num is {total}\")    \n",
    "    \n"
   ]
  },
  {
   "cell_type": "code",
   "execution_count": 14,
   "id": "b0a2f116-32b2-41e5-b8f9-b33008155613",
   "metadata": {},
   "outputs": [
    {
     "name": "stdin",
     "output_type": "stream",
     "text": [
      "Enter the positive integer  5\n"
     ]
    },
    {
     "name": "stdout",
     "output_type": "stream",
     "text": [
      "Total sum of give num is 2.283333333333333\n"
     ]
    }
   ],
   "source": [
    "#write a program that takes a positive integer N as input and calculates the sum of\n",
    "#the reciprocals of all numbers from 1 up to N. The program should display the final sum. \n",
    "n=int(input(\"Enter the positive integer \"))\n",
    "total=0.0\n",
    "for i in range(1,n+1):\n",
    "    if n>0:\n",
    "        total+=1/i\n",
    "       \n",
    "   \n",
    "print(f\"Total sum of give num is {total}\")    \n",
    "    "
   ]
  },
  {
   "cell_type": "code",
   "execution_count": 43,
   "id": "c4f0b055-307a-4abb-9dc7-1b782d5f226c",
   "metadata": {},
   "outputs": [
    {
     "name": "stdin",
     "output_type": "stream",
     "text": [
      "ENTER THE NUM  1\n",
      "ENTER THE NUM  2\n",
      "ENTER THE NUM  3\n",
      "ENTER THE NUM  4\n",
      "ENTER THE NUM  5\n"
     ]
    },
    {
     "name": "stdout",
     "output_type": "stream",
     "text": [
      "Total sum of give num is 15\n"
     ]
    }
   ],
   "source": [
    "#Write a program that prompts the user to enter a number and repeats this process 5 times. The program should accumulate the numbers entered and then display the finalrunning total. \n",
    "total=0\n",
    "for i in range(5):\n",
    "    n=int(input(\"ENTER THE NUM \"))\n",
    "    total+=n\n",
    "    \n",
    "    \n",
    "print(f\"Total sum of give num is {total}\")\n",
    "    \n",
    "    \n",
    "    "
   ]
  },
  {
   "cell_type": "code",
   "execution_count": 35,
   "id": "1b378124-19d6-4201-a7ac-212c3deb7286",
   "metadata": {},
   "outputs": [
    {
     "name": "stdin",
     "output_type": "stream",
     "text": [
      "ENTER THE fac NUM  6\n"
     ]
    },
    {
     "name": "stdout",
     "output_type": "stream",
     "text": [
      "The factorial of 6 is 720 \n"
     ]
    }
   ],
   "source": [
    "fac=1\n",
    "n=int(input(\"ENTER THE fac NUM \"))\n",
    "for i in range(1,n+1):\n",
    "    if n>0:\n",
    "        \n",
    "       fac=fac*i\n",
    "    elif n<0:\n",
    "        print(\"negative num have no fac\")\n",
    "\n",
    "print(f\"The factorial of {n} is {fac} \")    \n",
    "   \n",
    "\n"
   ]
  },
  {
   "cell_type": "code",
   "execution_count": 40,
   "id": "f7d4c250-6b4e-40a4-91e8-7ce397068ab1",
   "metadata": {},
   "outputs": [
    {
     "name": "stdin",
     "output_type": "stream",
     "text": [
      "ENTER THE base   2\n",
      "ENTER THE power  3\n"
     ]
    },
    {
     "name": "stdout",
     "output_type": "stream",
     "text": [
      "2 is power is 3 so the anser is 8\n"
     ]
    }
   ],
   "source": [
    "base=int(input(\"ENTER THE base  \"))\n",
    "power=int(input(\"ENTER THE power \"))\n",
    "# cal=base**power\n",
    "# print(cal)\n",
    "def c_power(base,power):\n",
    "    result=1\n",
    "    neg_exp=power<0\n",
    "    power=abs(power)\n",
    "    for i in range(power):\n",
    "        result*=base\n",
    "    if  neg_exp:\n",
    "        result=1/result\n",
    "    return result    \n",
    "ans=c_power(base,power)\n",
    "print(f\"{base} is power is {power} so the anser is {ans}\")"
   ]
  },
  {
   "cell_type": "code",
   "execution_count": null,
   "id": "56f2f876-6d4d-4ef7-aa94-5e5687dbbda0",
   "metadata": {},
   "outputs": [],
   "source": []
  }
 ],
 "metadata": {
  "kernelspec": {
   "display_name": "Python 3 (ipykernel)",
   "language": "python",
   "name": "python3"
  },
  "language_info": {
   "codemirror_mode": {
    "name": "ipython",
    "version": 3
   },
   "file_extension": ".py",
   "mimetype": "text/x-python",
   "name": "python",
   "nbconvert_exporter": "python",
   "pygments_lexer": "ipython3",
   "version": "3.11.7"
  }
 },
 "nbformat": 4,
 "nbformat_minor": 5
}
